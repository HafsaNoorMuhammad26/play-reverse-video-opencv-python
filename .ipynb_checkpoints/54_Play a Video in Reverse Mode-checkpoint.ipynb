{
 "cells": [
  {
   "cell_type": "markdown",
   "id": "786a03a7-5c32-4df1-8bd4-ef94bb23acd8",
   "metadata": {},
   "source": [
    "**54_Play a Video in Reverse Mode**"
   ]
  },
  {
   "cell_type": "code",
   "execution_count": 1,
   "id": "6053862e-2663-4760-bd17-a4136e1a2e30",
   "metadata": {},
   "outputs": [],
   "source": [
    "import cv2"
   ]
  },
  {
   "cell_type": "code",
   "execution_count": 5,
   "id": "6bc8d759-4d57-4884-a699-238cc2d97b41",
   "metadata": {},
   "outputs": [],
   "source": [
    "cap = cv2.VideoCapture(r\"C:\\Users\\hp\\Documents\\jupyter\\OpenCV by WsCube Tech\\Videos\\A man running - side view - Animation reference [w_g1i6tzNGk].f313.webm\")\n",
    "while cap.isOpened():\n",
    "    r,f = cap.read()\n",
    "    f = cv2.resize(f,(500,500))\n",
    "    if r == True:\n",
    "        cv2.imshow(\"W1\",f)\n",
    "        if cv2.waitKey(25) & 0xff == ord(\"q\"):\n",
    "            break\n",
    "    else:\n",
    "        break\n",
    "\n",
    "\n",
    "cap.release()\n",
    "cv2.destroyAllWindows()"
   ]
  },
  {
   "cell_type": "code",
   "execution_count": null,
   "id": "7d42e531-e9fb-4638-a960-90c792eaed39",
   "metadata": {},
   "outputs": [],
   "source": []
  }
 ],
 "metadata": {
  "kernelspec": {
   "display_name": "Python 3 (ipykernel)",
   "language": "python",
   "name": "python3"
  },
  "language_info": {
   "codemirror_mode": {
    "name": "ipython",
    "version": 3
   },
   "file_extension": ".py",
   "mimetype": "text/x-python",
   "name": "python",
   "nbconvert_exporter": "python",
   "pygments_lexer": "ipython3",
   "version": "3.12.4"
  }
 },
 "nbformat": 4,
 "nbformat_minor": 5
}
